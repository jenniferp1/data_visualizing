{
 "cells": [
  {
   "cell_type": "markdown",
   "metadata": {},
   "source": [
    "# Plotting Your Data - Matplotlib"
   ]
  },
  {
   "cell_type": "code",
   "execution_count": 1,
   "metadata": {},
   "outputs": [],
   "source": [
    "import pandas as pd\n",
    "import matplotlib.pyplot as plt\n",
    "import os"
   ]
  },
  {
   "cell_type": "code",
   "execution_count": 2,
   "metadata": {},
   "outputs": [],
   "source": [
    "#We will read in the file survey.csv\n",
    "cwd = os.getcwd()\n",
    "file = cwd + \"/data/survey.csv\"\n",
    "\n",
    "#read in with pandas\n",
    "df = pd.read_csv(file, index_col='record_id')"
   ]
  },
  {
   "cell_type": "code",
   "execution_count": 3,
   "metadata": {
    "scrolled": true
   },
   "outputs": [
    {
     "name": "stdout",
     "output_type": "stream",
     "text": [
      "The dimensions of the dataframe are: (35549, 7)\n"
     ]
    },
    {
     "data": {
      "text/html": [
       "<div>\n",
       "<style scoped>\n",
       "    .dataframe tbody tr th:only-of-type {\n",
       "        vertical-align: middle;\n",
       "    }\n",
       "\n",
       "    .dataframe tbody tr th {\n",
       "        vertical-align: top;\n",
       "    }\n",
       "\n",
       "    .dataframe thead th {\n",
       "        text-align: right;\n",
       "    }\n",
       "</style>\n",
       "<table border=\"1\" class=\"dataframe\">\n",
       "  <thead>\n",
       "    <tr style=\"text-align: right;\">\n",
       "      <th></th>\n",
       "      <th>month</th>\n",
       "      <th>day</th>\n",
       "      <th>year</th>\n",
       "      <th>plot</th>\n",
       "      <th>species</th>\n",
       "      <th>sex</th>\n",
       "      <th>wgt</th>\n",
       "    </tr>\n",
       "    <tr>\n",
       "      <th>record_id</th>\n",
       "      <th></th>\n",
       "      <th></th>\n",
       "      <th></th>\n",
       "      <th></th>\n",
       "      <th></th>\n",
       "      <th></th>\n",
       "      <th></th>\n",
       "    </tr>\n",
       "  </thead>\n",
       "  <tbody>\n",
       "    <tr>\n",
       "      <th>1</th>\n",
       "      <td>7</td>\n",
       "      <td>16</td>\n",
       "      <td>1977</td>\n",
       "      <td>2</td>\n",
       "      <td>NL</td>\n",
       "      <td>M</td>\n",
       "      <td>NaN</td>\n",
       "    </tr>\n",
       "    <tr>\n",
       "      <th>2</th>\n",
       "      <td>7</td>\n",
       "      <td>16</td>\n",
       "      <td>1977</td>\n",
       "      <td>3</td>\n",
       "      <td>NL</td>\n",
       "      <td>M</td>\n",
       "      <td>NaN</td>\n",
       "    </tr>\n",
       "    <tr>\n",
       "      <th>3</th>\n",
       "      <td>7</td>\n",
       "      <td>16</td>\n",
       "      <td>1977</td>\n",
       "      <td>2</td>\n",
       "      <td>DM</td>\n",
       "      <td>F</td>\n",
       "      <td>NaN</td>\n",
       "    </tr>\n",
       "    <tr>\n",
       "      <th>4</th>\n",
       "      <td>7</td>\n",
       "      <td>16</td>\n",
       "      <td>1977</td>\n",
       "      <td>7</td>\n",
       "      <td>DM</td>\n",
       "      <td>M</td>\n",
       "      <td>NaN</td>\n",
       "    </tr>\n",
       "    <tr>\n",
       "      <th>5</th>\n",
       "      <td>7</td>\n",
       "      <td>16</td>\n",
       "      <td>1977</td>\n",
       "      <td>3</td>\n",
       "      <td>DM</td>\n",
       "      <td>M</td>\n",
       "      <td>NaN</td>\n",
       "    </tr>\n",
       "  </tbody>\n",
       "</table>\n",
       "</div>"
      ],
      "text/plain": [
       "           month  day  year  plot species sex  wgt\n",
       "record_id                                         \n",
       "1              7   16  1977     2      NL   M  NaN\n",
       "2              7   16  1977     3      NL   M  NaN\n",
       "3              7   16  1977     2      DM   F  NaN\n",
       "4              7   16  1977     7      DM   M  NaN\n",
       "5              7   16  1977     3      DM   M  NaN"
      ]
     },
     "execution_count": 3,
     "metadata": {},
     "output_type": "execute_result"
    }
   ],
   "source": [
    "print(\"The dimensions of the dataframe are:\", df.shape)\n",
    "\n",
    "#since the dataframe is large, let's only view part of the dataframe\n",
    "df.head()"
   ]
  },
  {
   "cell_type": "code",
   "execution_count": 4,
   "metadata": {},
   "outputs": [],
   "source": [
    "# take the first 50 of the ~35000 entries\n",
    "small_dataset = df[:50]"
   ]
  },
  {
   "cell_type": "code",
   "execution_count": 5,
   "metadata": {},
   "outputs": [
    {
     "data": {
      "text/plain": [
       "record_id\n",
       "1    2\n",
       "2    3\n",
       "3    2\n",
       "4    7\n",
       "5    3\n",
       "Name: plot, dtype: int64"
      ]
     },
     "execution_count": 5,
     "metadata": {},
     "output_type": "execute_result"
    }
   ],
   "source": [
    "#There's a column in surveys.csv named \"plot\" let us use it to make a plot.\n",
    "plot_data = small_dataset['plot']\n",
    "\n",
    "#we have an array of plot data indexed by the record_id value\n",
    "plot_data.head()"
   ]
  },
  {
   "cell_type": "code",
   "execution_count": 6,
   "metadata": {},
   "outputs": [
    {
     "data": {
      "image/png": "[encoded data removed]",
      "text/plain": [
       "<Figure size 432x288 with 1 Axes>"
      ]
     },
     "metadata": {
      "needs_background": "light"
     },
     "output_type": "display_data"
    }
   ],
   "source": [
    "#Let's use matplotlib to plot it and give it a label.\n",
    "plt.plot(plot_data, label='My Data')\n",
    "\n",
    "#We can interact with the plot by using plt.show like so:\n",
    "plt.show()"
   ]
  },
  {
   "cell_type": "code",
   "execution_count": 7,
   "metadata": {},
   "outputs": [
    {
     "data": {
      "image/png": "[encoded data removed]",
      "text/plain": [
       "<Figure size 432x288 with 1 Axes>"
      ]
     },
     "metadata": {
      "needs_background": "light"
     },
     "output_type": "display_data"
    }
   ],
   "source": [
    "#To save the plot as a png - it should appear in your working directory\n",
    "plt.plot(plot_data, label='My Data')\n",
    "plt.savefig('myplot.png')"
   ]
  },
  {
   "cell_type": "code",
   "execution_count": 8,
   "metadata": {},
   "outputs": [
    {
     "name": "stdout",
     "output_type": "stream",
     "text": [
      "sex\n",
      "F    25\n",
      "M    22\n",
      "dtype: int64 \n",
      "\n"
     ]
    },
    {
     "data": {
      "text/plain": [
       "[('F',            month  day  year  plot species sex  wgt\n",
       "  record_id                                         \n",
       "  3              7   16  1977     2      DM   F  NaN\n",
       "  7              7   16  1977     2      PE   F  NaN\n",
       "  9              7   16  1977     1      DM   F  NaN\n",
       "  10             7   16  1977     6      PF   F  NaN\n",
       "  11             7   16  1977     5      DS   F  NaN\n",
       "  15             7   16  1977     6      DM   F  NaN\n",
       "  16             7   16  1977     4      DM   F  NaN\n",
       "  17             7   16  1977     3      DS   F  NaN\n",
       "  20             7   17  1977    11      DS   F  NaN\n",
       "  21             7   17  1977    14      DM   F  NaN\n",
       "  22             7   17  1977    15      NL   F  NaN\n",
       "  30             7   17  1977    10      DS   F  NaN\n",
       "  31             7   17  1977    15      DM   F  NaN\n",
       "  32             7   17  1977    10      DM   F  NaN\n",
       "  33             7   17  1977    11      DM   F  NaN\n",
       "  35             7   17  1977    13      DM   F  NaN\n",
       "  36             7   17  1977    16      OT   F  NaN\n",
       "  37             7   17  1977    11      DM   F  NaN\n",
       "  39             7   17  1977    11      DM   F  NaN\n",
       "  41             7   18  1977    23      DM   F  NaN\n",
       "  42             7   18  1977    18      DS   F  NaN\n",
       "  44             7   18  1977    18      DM   F  NaN\n",
       "  48             7   18  1977    20      DM   F  NaN\n",
       "  49             7   18  1977    12      PP   F  NaN\n",
       "  50             7   18  1977    18      DM   F  NaN),\n",
       " ('M',            month  day  year  plot species sex  wgt\n",
       "  record_id                                         \n",
       "  1              7   16  1977     2      NL   M  NaN\n",
       "  2              7   16  1977     3      NL   M  NaN\n",
       "  4              7   16  1977     7      DM   M  NaN\n",
       "  5              7   16  1977     3      DM   M  NaN\n",
       "  6              7   16  1977     1      PF   M  NaN\n",
       "  8              7   16  1977     1      DM   M  NaN\n",
       "  12             7   16  1977     7      DM   M  NaN\n",
       "  13             7   16  1977     3      DM   M  NaN\n",
       "  18             7   16  1977     2      PP   M  NaN\n",
       "  23             7   17  1977    13      DM   M  NaN\n",
       "  24             7   17  1977    13      SH   M  NaN\n",
       "  25             7   17  1977     9      DM   M  NaN\n",
       "  26             7   17  1977    15      DM   M  NaN\n",
       "  27             7   17  1977    15      DM   M  NaN\n",
       "  28             7   17  1977    11      DM   M  NaN\n",
       "  29             7   17  1977    11      PP   M  NaN\n",
       "  38             7   17  1977    17      NL   M  NaN\n",
       "  40             7   18  1977    20      DM   M  NaN\n",
       "  43             7   18  1977    21      DM   M  NaN\n",
       "  45             7   18  1977    22      DM   M  NaN\n",
       "  46             7   18  1977    19      DM   M  NaN\n",
       "  47             7   18  1977    18      DM   M  NaN)]"
      ]
     },
     "execution_count": 8,
     "metadata": {},
     "output_type": "execute_result"
    }
   ],
   "source": [
    "#Here's a slightly more realistic example\n",
    "\n",
    "#1. group data by gender \n",
    "grouped_plot_data = small_dataset.groupby('sex')\n",
    "\n",
    "#to get an idea of what it looks like\n",
    "print(grouped_plot_data.size(), \"\\n\")\n",
    "list(grouped_plot_data)\n",
    "\n"
   ]
  },
  {
   "cell_type": "code",
   "execution_count": 9,
   "metadata": {},
   "outputs": [
    {
     "data": {
      "image/png": "[encoded data removed]",
      "text/plain": [
       "<Figure size 432x288 with 1 Axes>"
      ]
     },
     "metadata": {
      "needs_background": "light"
     },
     "output_type": "display_data"
    }
   ],
   "source": [
    "#2. get different colors and labels for each group.\n",
    "colors = ['r', 'g'] #we'll be cycling through these colors\n",
    "color_index = 0\n",
    "for group in grouped_plot_data:\n",
    "    color = colors[color_index]\n",
    "    group_label = group[0]\n",
    "    group_data = group[1]\n",
    "    plt.plot(group_data['plot'], color=color, label=group_label)\n",
    "    color_index += 1\n",
    "\n",
    "plt.legend()\n",
    "plt.show()"
   ]
  },
  {
   "cell_type": "markdown",
   "metadata": {},
   "source": [
    "# Plotting Flight Data"
   ]
  },
  {
   "cell_type": "code",
   "execution_count": 10,
   "metadata": {
    "scrolled": true
   },
   "outputs": [],
   "source": [
    "#define file location/names\n",
    "airports_file = cwd + \"/data/airports.csv\"\n",
    "airlines_file = cwd + \"/data/airlines.csv\"\n",
    "routes_file = cwd + \"/data/routes.csv\"\n",
    "\n",
    "#read in data from each file\n",
    "\n",
    "# Read in the airports data.\n",
    "airports = pd.read_csv(airports_file)\n",
    "airports.columns = [\"id\", \"name\", \"city\", \"country\", \"code\", \"icao\", \"latitude\", \"longitude\", \"altitude\", \"offset\", \"dst\", \"timezone\"]\n",
    "\n",
    "# Read in the airlines data.\n",
    "airlines = pd.read_csv(\"./data/airlines.csv\", header=None, dtype=str)\n",
    "airlines.columns = [\"id\", \"name\", \"alias\", \"iata\", \"icao\", \"callsign\", \"country\", \"active\"]\n",
    "\n",
    "# Read in the routes data.\n",
    "routes = pd.read_csv(\"./data/routes.csv\", header=None, dtype=str)\n",
    "routes.columns = [\"airline\", \"airline_id\", \"source\", \"source_id\", \"dest\", \"dest_id\", \"codeshare\", \"stops\", \"equipment\"]"
   ]
  },
  {
   "cell_type": "code",
   "execution_count": 11,
   "metadata": {},
   "outputs": [
    {
     "data": {
      "text/html": [
       "<div>\n",
       "<style scoped>\n",
       "    .dataframe tbody tr th:only-of-type {\n",
       "        vertical-align: middle;\n",
       "    }\n",
       "\n",
       "    .dataframe tbody tr th {\n",
       "        vertical-align: top;\n",
       "    }\n",
       "\n",
       "    .dataframe thead th {\n",
       "        text-align: right;\n",
       "    }\n",
       "</style>\n",
       "<table border=\"1\" class=\"dataframe\">\n",
       "  <thead>\n",
       "    <tr style=\"text-align: right;\">\n",
       "      <th></th>\n",
       "      <th>id</th>\n",
       "      <th>name</th>\n",
       "      <th>city</th>\n",
       "      <th>country</th>\n",
       "      <th>code</th>\n",
       "      <th>icao</th>\n",
       "      <th>latitude</th>\n",
       "      <th>longitude</th>\n",
       "      <th>altitude</th>\n",
       "      <th>offset</th>\n",
       "      <th>dst</th>\n",
       "      <th>timezone</th>\n",
       "    </tr>\n",
       "  </thead>\n",
       "  <tbody>\n",
       "    <tr>\n",
       "      <th>0</th>\n",
       "      <td>2</td>\n",
       "      <td>Madang</td>\n",
       "      <td>Madang</td>\n",
       "      <td>Papua New Guinea</td>\n",
       "      <td>MAG</td>\n",
       "      <td>AYMD</td>\n",
       "      <td>-5.207083</td>\n",
       "      <td>145.788700</td>\n",
       "      <td>20</td>\n",
       "      <td>10.0</td>\n",
       "      <td>U</td>\n",
       "      <td>Pacific/Port_Moresby</td>\n",
       "    </tr>\n",
       "    <tr>\n",
       "      <th>1</th>\n",
       "      <td>3</td>\n",
       "      <td>Mount Hagen</td>\n",
       "      <td>Mount Hagen</td>\n",
       "      <td>Papua New Guinea</td>\n",
       "      <td>HGU</td>\n",
       "      <td>AYMH</td>\n",
       "      <td>-5.826789</td>\n",
       "      <td>144.295861</td>\n",
       "      <td>5388</td>\n",
       "      <td>10.0</td>\n",
       "      <td>U</td>\n",
       "      <td>Pacific/Port_Moresby</td>\n",
       "    </tr>\n",
       "    <tr>\n",
       "      <th>2</th>\n",
       "      <td>4</td>\n",
       "      <td>Nadzab</td>\n",
       "      <td>Nadzab</td>\n",
       "      <td>Papua New Guinea</td>\n",
       "      <td>LAE</td>\n",
       "      <td>AYNZ</td>\n",
       "      <td>-6.569828</td>\n",
       "      <td>146.726242</td>\n",
       "      <td>239</td>\n",
       "      <td>10.0</td>\n",
       "      <td>U</td>\n",
       "      <td>Pacific/Port_Moresby</td>\n",
       "    </tr>\n",
       "    <tr>\n",
       "      <th>3</th>\n",
       "      <td>5</td>\n",
       "      <td>Port Moresby Jacksons Intl</td>\n",
       "      <td>Port Moresby</td>\n",
       "      <td>Papua New Guinea</td>\n",
       "      <td>POM</td>\n",
       "      <td>AYPY</td>\n",
       "      <td>-9.443383</td>\n",
       "      <td>147.220050</td>\n",
       "      <td>146</td>\n",
       "      <td>10.0</td>\n",
       "      <td>U</td>\n",
       "      <td>Pacific/Port_Moresby</td>\n",
       "    </tr>\n",
       "    <tr>\n",
       "      <th>4</th>\n",
       "      <td>6</td>\n",
       "      <td>Wewak Intl</td>\n",
       "      <td>Wewak</td>\n",
       "      <td>Papua New Guinea</td>\n",
       "      <td>WWK</td>\n",
       "      <td>AYWK</td>\n",
       "      <td>-3.583828</td>\n",
       "      <td>143.669186</td>\n",
       "      <td>19</td>\n",
       "      <td>10.0</td>\n",
       "      <td>U</td>\n",
       "      <td>Pacific/Port_Moresby</td>\n",
       "    </tr>\n",
       "  </tbody>\n",
       "</table>\n",
       "</div>"
      ],
      "text/plain": [
       "   id                        name          city           country code  icao  \\\n",
       "0   2                      Madang        Madang  Papua New Guinea  MAG  AYMD   \n",
       "1   3                 Mount Hagen   Mount Hagen  Papua New Guinea  HGU  AYMH   \n",
       "2   4                      Nadzab        Nadzab  Papua New Guinea  LAE  AYNZ   \n",
       "3   5  Port Moresby Jacksons Intl  Port Moresby  Papua New Guinea  POM  AYPY   \n",
       "4   6                  Wewak Intl         Wewak  Papua New Guinea  WWK  AYWK   \n",
       "\n",
       "   latitude   longitude  altitude  offset dst              timezone  \n",
       "0 -5.207083  145.788700        20    10.0   U  Pacific/Port_Moresby  \n",
       "1 -5.826789  144.295861      5388    10.0   U  Pacific/Port_Moresby  \n",
       "2 -6.569828  146.726242       239    10.0   U  Pacific/Port_Moresby  \n",
       "3 -9.443383  147.220050       146    10.0   U  Pacific/Port_Moresby  \n",
       "4 -3.583828  143.669186        19    10.0   U  Pacific/Port_Moresby  "
      ]
     },
     "execution_count": 11,
     "metadata": {},
     "output_type": "execute_result"
    }
   ],
   "source": [
    "#taking a look at each dataframe\n",
    "airports.head()\n"
   ]
  },
  {
   "cell_type": "code",
   "execution_count": 12,
   "metadata": {},
   "outputs": [
    {
     "data": {
      "text/html": [
       "<div>\n",
       "<style scoped>\n",
       "    .dataframe tbody tr th:only-of-type {\n",
       "        vertical-align: middle;\n",
       "    }\n",
       "\n",
       "    .dataframe tbody tr th {\n",
       "        vertical-align: top;\n",
       "    }\n",
       "\n",
       "    .dataframe thead th {\n",
       "        text-align: right;\n",
       "    }\n",
       "</style>\n",
       "<table border=\"1\" class=\"dataframe\">\n",
       "  <thead>\n",
       "    <tr style=\"text-align: right;\">\n",
       "      <th></th>\n",
       "      <th>id</th>\n",
       "      <th>name</th>\n",
       "      <th>alias</th>\n",
       "      <th>iata</th>\n",
       "      <th>icao</th>\n",
       "      <th>callsign</th>\n",
       "      <th>country</th>\n",
       "      <th>active</th>\n",
       "    </tr>\n",
       "  </thead>\n",
       "  <tbody>\n",
       "    <tr>\n",
       "      <th>0</th>\n",
       "      <td>1</td>\n",
       "      <td>Private flight</td>\n",
       "      <td>\\N</td>\n",
       "      <td>-</td>\n",
       "      <td>NaN</td>\n",
       "      <td>NaN</td>\n",
       "      <td>NaN</td>\n",
       "      <td>Y</td>\n",
       "    </tr>\n",
       "    <tr>\n",
       "      <th>1</th>\n",
       "      <td>2</td>\n",
       "      <td>135 Airways</td>\n",
       "      <td>\\N</td>\n",
       "      <td>NaN</td>\n",
       "      <td>GNL</td>\n",
       "      <td>GENERAL</td>\n",
       "      <td>United States</td>\n",
       "      <td>N</td>\n",
       "    </tr>\n",
       "    <tr>\n",
       "      <th>2</th>\n",
       "      <td>3</td>\n",
       "      <td>1Time Airline</td>\n",
       "      <td>\\N</td>\n",
       "      <td>1T</td>\n",
       "      <td>RNX</td>\n",
       "      <td>NEXTIME</td>\n",
       "      <td>South Africa</td>\n",
       "      <td>Y</td>\n",
       "    </tr>\n",
       "    <tr>\n",
       "      <th>3</th>\n",
       "      <td>4</td>\n",
       "      <td>2 Sqn No 1 Elementary Flying Training School</td>\n",
       "      <td>\\N</td>\n",
       "      <td>NaN</td>\n",
       "      <td>WYT</td>\n",
       "      <td>NaN</td>\n",
       "      <td>United Kingdom</td>\n",
       "      <td>N</td>\n",
       "    </tr>\n",
       "    <tr>\n",
       "      <th>4</th>\n",
       "      <td>5</td>\n",
       "      <td>213 Flight Unit</td>\n",
       "      <td>\\N</td>\n",
       "      <td>NaN</td>\n",
       "      <td>TFU</td>\n",
       "      <td>NaN</td>\n",
       "      <td>Russia</td>\n",
       "      <td>N</td>\n",
       "    </tr>\n",
       "  </tbody>\n",
       "</table>\n",
       "</div>"
      ],
      "text/plain": [
       "  id                                          name alias iata icao callsign  \\\n",
       "0  1                                Private flight    \\N    -  NaN      NaN   \n",
       "1  2                                   135 Airways    \\N  NaN  GNL  GENERAL   \n",
       "2  3                                 1Time Airline    \\N   1T  RNX  NEXTIME   \n",
       "3  4  2 Sqn No 1 Elementary Flying Training School    \\N  NaN  WYT      NaN   \n",
       "4  5                               213 Flight Unit    \\N  NaN  TFU      NaN   \n",
       "\n",
       "          country active  \n",
       "0             NaN      Y  \n",
       "1   United States      N  \n",
       "2    South Africa      Y  \n",
       "3  United Kingdom      N  \n",
       "4          Russia      N  "
      ]
     },
     "execution_count": 12,
     "metadata": {},
     "output_type": "execute_result"
    }
   ],
   "source": [
    "airlines.head()\n"
   ]
  },
  {
   "cell_type": "code",
   "execution_count": 13,
   "metadata": {},
   "outputs": [
    {
     "data": {
      "text/html": [
       "<div>\n",
       "<style scoped>\n",
       "    .dataframe tbody tr th:only-of-type {\n",
       "        vertical-align: middle;\n",
       "    }\n",
       "\n",
       "    .dataframe tbody tr th {\n",
       "        vertical-align: top;\n",
       "    }\n",
       "\n",
       "    .dataframe thead th {\n",
       "        text-align: right;\n",
       "    }\n",
       "</style>\n",
       "<table border=\"1\" class=\"dataframe\">\n",
       "  <thead>\n",
       "    <tr style=\"text-align: right;\">\n",
       "      <th></th>\n",
       "      <th>airline</th>\n",
       "      <th>airline_id</th>\n",
       "      <th>source</th>\n",
       "      <th>source_id</th>\n",
       "      <th>dest</th>\n",
       "      <th>dest_id</th>\n",
       "      <th>codeshare</th>\n",
       "      <th>stops</th>\n",
       "      <th>equipment</th>\n",
       "    </tr>\n",
       "  </thead>\n",
       "  <tbody>\n",
       "    <tr>\n",
       "      <th>0</th>\n",
       "      <td>2B</td>\n",
       "      <td>410</td>\n",
       "      <td>AER</td>\n",
       "      <td>2965</td>\n",
       "      <td>KZN</td>\n",
       "      <td>2990</td>\n",
       "      <td>NaN</td>\n",
       "      <td>0</td>\n",
       "      <td>CR2</td>\n",
       "    </tr>\n",
       "    <tr>\n",
       "      <th>1</th>\n",
       "      <td>2B</td>\n",
       "      <td>410</td>\n",
       "      <td>ASF</td>\n",
       "      <td>2966</td>\n",
       "      <td>KZN</td>\n",
       "      <td>2990</td>\n",
       "      <td>NaN</td>\n",
       "      <td>0</td>\n",
       "      <td>CR2</td>\n",
       "    </tr>\n",
       "    <tr>\n",
       "      <th>2</th>\n",
       "      <td>2B</td>\n",
       "      <td>410</td>\n",
       "      <td>ASF</td>\n",
       "      <td>2966</td>\n",
       "      <td>MRV</td>\n",
       "      <td>2962</td>\n",
       "      <td>NaN</td>\n",
       "      <td>0</td>\n",
       "      <td>CR2</td>\n",
       "    </tr>\n",
       "    <tr>\n",
       "      <th>3</th>\n",
       "      <td>2B</td>\n",
       "      <td>410</td>\n",
       "      <td>CEK</td>\n",
       "      <td>2968</td>\n",
       "      <td>KZN</td>\n",
       "      <td>2990</td>\n",
       "      <td>NaN</td>\n",
       "      <td>0</td>\n",
       "      <td>CR2</td>\n",
       "    </tr>\n",
       "    <tr>\n",
       "      <th>4</th>\n",
       "      <td>2B</td>\n",
       "      <td>410</td>\n",
       "      <td>CEK</td>\n",
       "      <td>2968</td>\n",
       "      <td>OVB</td>\n",
       "      <td>4078</td>\n",
       "      <td>NaN</td>\n",
       "      <td>0</td>\n",
       "      <td>CR2</td>\n",
       "    </tr>\n",
       "  </tbody>\n",
       "</table>\n",
       "</div>"
      ],
      "text/plain": [
       "  airline airline_id source source_id dest dest_id codeshare stops equipment\n",
       "0      2B        410    AER      2965  KZN    2990       NaN     0       CR2\n",
       "1      2B        410    ASF      2966  KZN    2990       NaN     0       CR2\n",
       "2      2B        410    ASF      2966  MRV    2962       NaN     0       CR2\n",
       "3      2B        410    CEK      2968  KZN    2990       NaN     0       CR2\n",
       "4      2B        410    CEK      2968  OVB    4078       NaN     0       CR2"
      ]
     },
     "execution_count": 13,
     "metadata": {},
     "output_type": "execute_result"
    }
   ],
   "source": [
    "routes.head()"
   ]
  },
  {
   "cell_type": "code",
   "execution_count": 14,
   "metadata": {},
   "outputs": [],
   "source": [
    "#Lets clean to remove unknown airlines\n",
    "routes = routes[routes[\"airline_id\"] != \"\\\\N\"]\n",
    "\n",
    "#make a histogram showing the distribution of route lengths by airlines\n",
    "#to do this we get to define our own function!!! yay!\n",
    "\n",
    "import math\n",
    "\n",
    "#user-defined funciton\n",
    "def haversine(lon1, lat1, lon2, lat2):\n",
    "    # Convert coordinates to floats.\n",
    "    lon1, lat1, lon2, lat2 = [float(lon1), float(lat1), float(lon2), float(lat2)]\n",
    "    # Convert to radians from degrees.\n",
    "    lon1, lat1, lon2, lat2 = map(math.radians, [lon1, lat1, lon2, lat2])\n",
    "    # Compute distance.\n",
    "    dlon = lon2 - lon1 \n",
    "    dlat = lat2 - lat1 \n",
    "    a = math.sin(dlat/2)**2 + math.cos(lat1) * math.cos(lat2) * math.sin(dlon/2)**2\n",
    "    c = 2 * math.asin(math.sqrt(a)) \n",
    "    km = 6367 * c\n",
    "    return(km)"
   ]
  },
  {
   "cell_type": "code",
   "execution_count": 15,
   "metadata": {},
   "outputs": [],
   "source": [
    "\"\"\"\n",
    "another user-defined function: calculates distance between the source and dest \n",
    "airports for a single route.\n",
    "\n",
    "Side-note: this function uses try/except because the function \n",
    "could fail if there’s an invalid value in the source_id or dest_id columns, \n",
    "to prevent failure in this kind of situation use a try/except block \n",
    "to catch problems.\n",
    "\"\"\"\n",
    "\n",
    "def calc_dist(row):\n",
    "    dist = 0\n",
    "    try:\n",
    "        # Match source and destination to get coordinates.\n",
    "        source = airports[ airports[\"id\"] == int(row[\"source_id\"]) ].iloc[0]\n",
    "        dest = airports[ airports[\"id\"] == int(row[\"dest_id\"]) ].iloc[0]\n",
    "\n",
    "        # Use coordinates to compute distance.\n",
    "        dist = haversine(dest[\"longitude\"], dest[\"latitude\"], source[\"longitude\"], source[\"latitude\"])\n",
    "    except (ValueError, IndexError):\n",
    "        pass\n",
    "    \n",
    "    return(dist)\n"
   ]
  },
  {
   "cell_type": "markdown",
   "metadata": {},
   "source": [
    "Code below takes several minutes to run"
   ]
  },
  {
   "cell_type": "code",
   "execution_count": 16,
   "metadata": {},
   "outputs": [
    {
     "data": {
      "image/png": "[encoded data removed]",
      "text/plain": [
       "<Figure size 432x288 with 1 Axes>"
      ]
     },
     "metadata": {
      "needs_background": "light"
     },
     "output_type": "display_data"
    }
   ],
   "source": [
    "\"\"\"\n",
    "use pandas to apply the distance calculation function across \n",
    "the routes dataframe\n",
    "remember in dataframe axis = 0 for index and axis = 1 for columns\n",
    "\"\"\"\n",
    "route_lengths = routes.apply(calc_dist, axis=1)\n",
    "\n",
    "\n",
    "\"\"\"\n",
    "series of route lengths, we can create a histogram, \n",
    "which will bin the values into ranges and count how many \n",
    "routes fall into each range\n",
    "\"\"\"\n",
    "plt.hist(route_lengths, bins=20)\n",
    "plt.show()"
   ]
  },
  {
   "cell_type": "markdown",
   "metadata": {},
   "source": [
    "# Mapping Flight Data"
   ]
  },
  {
   "cell_type": "markdown",
   "metadata": {},
   "source": [
    "If help loading PROJ_LIB or basemap is needed see on of the following resorces\n",
    "\n",
    "https://stackoverflow.com/questions/52911232/basemap-library-using-anaconda-jupyter-notebooks-keyerror-proj-lib\n",
    "\n",
    "https://stackoverflow.com/questions/40374441/python-basemap-module-impossible-to-import\n",
    "\n",
    "https://github.com/matplotlib/basemap/issues/419"
   ]
  },
  {
   "cell_type": "code",
   "execution_count": 18,
   "metadata": {},
   "outputs": [
    {
     "data": {
      "image/png": "[encoded data removed]",
      "text/plain": [
       "<Figure size 432x288 with 1 Axes>"
      ]
     },
     "metadata": {},
     "output_type": "display_data"
    }
   ],
   "source": [
    "\"\"\"\n",
    "Make a map that shows airports all over the world. \n",
    "We can do this with the basemap extension to matplotlib. \n",
    "This enables drawing world maps and adding points.\n",
    "\"\"\"\n",
    "\n",
    "# Import the basemap package\n",
    "os.environ['PROJ_LIB'] = '~/miniconda3/envs/tutorials/share/proj'\n",
    "from mpl_toolkits.basemap import Basemap\n",
    "\n",
    "#Create a map on which to draw.  We're using a mercator projection, and showing the whole world.\n",
    "m = Basemap(projection='merc',llcrnrlat=-80,urcrnrlat=80,llcrnrlon=-180,urcrnrlon=180,lat_ts=20,resolution='c')\n",
    "\n",
    "# Draw coastlines, and the edges of the map.\n",
    "m.drawcoastlines()\n",
    "m.drawmapboundary()\n",
    "\n",
    "# Convert latitude and longitude to x and y coordinates\n",
    "x, y = m(list(airports[\"longitude\"].astype(float)), list(airports[\"latitude\"].astype(float)))\n",
    "\n",
    "# Use matplotlib to draw the points onto the map.\n",
    "m.scatter(x,y,1,marker='o',color='red')\n",
    "\n",
    "# Show the plot.\n",
    "plt.show()"
   ]
  },
  {
   "cell_type": "code",
   "execution_count": 19,
   "metadata": {},
   "outputs": [
    {
     "data": {
      "image/png": "[encoded data removed]",
      "text/plain": [
       "<Figure size 432x288 with 1 Axes>"
      ]
     },
     "metadata": {},
     "output_type": "display_data"
    }
   ],
   "source": [
    "#Now let's map flight routes - but only for 1000 routes \n",
    "#to keep the clutter down\n",
    "\n",
    "# Make a base map with a mercator projection.  Draw the coastlines.\n",
    "m = Basemap(projection='merc',llcrnrlat=-80,urcrnrlat=80,llcrnrlon=-180,urcrnrlon=180,lat_ts=20,resolution='c')\n",
    "m.drawcoastlines()\n",
    "\n",
    "# Iterate through the first 1000 rows.\n",
    "for name, row in routes[:1000].iterrows():\n",
    "    try:\n",
    "        # Get the source and dest airports.\n",
    "        source = airports[airports[\"id\"] == int(row[\"source_id\"])].iloc[0]\n",
    "        dest = airports[airports[\"id\"] == int(row[\"dest_id\"])].iloc[0]\n",
    "        # Don't draw overly long routes.\n",
    "        if abs(float(source[\"longitude\"]) - float(dest[\"longitude\"])) < 90:\n",
    "            # Draw a great circle between source and dest airports.\n",
    "            m.drawgreatcircle(float(source[\"longitude\"]), float(source[\"latitude\"]), float(dest[\"longitude\"]), float(dest[\"latitude\"]),linewidth=1,color='b')\n",
    "    except (ValueError, IndexError):\n",
    "        pass\n",
    "    \n",
    "# Show the map.\n",
    "plt.show()\n"
   ]
  },
  {
   "cell_type": "markdown",
   "metadata": {},
   "source": [
    "Note there are potentially better ways to plot/map.\n",
    "Check out:<br>\n",
    "seaborn <br>\n",
    "bokeh <br>\n",
    "folium"
   ]
  }
 ],
 "metadata": {
  "kernelspec": {
   "display_name": "Python 3",
   "language": "python",
   "name": "python3"
  },
  "language_info": {
   "codemirror_mode": {
    "name": "ipython",
    "version": 3
   },
   "file_extension": ".py",
   "mimetype": "text/x-python",
   "name": "python",
   "nbconvert_exporter": "python",
   "pygments_lexer": "ipython3",
   "version": "3.7.3"
  }
 },
 "nbformat": 4,
 "nbformat_minor": 1
}
